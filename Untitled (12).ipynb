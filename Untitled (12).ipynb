{
 "cells": [
  {
   "cell_type": "markdown",
   "id": "e01c6357-35bf-4c72-ab74-d597ed26414d",
   "metadata": {},
   "source": [
    "# Running Bastionlab on Kubernetes"
   ]
  },
  {
   "cell_type": "markdown",
   "id": "e7775e15-5fe9-4018-81c3-5f7fb55337e3",
   "metadata": {},
   "source": [
    "First launch Bastionlab using sspcloud's UI. You need to enable authentication and set the number of users.\n",
    "\n",
    "Kubernets then creates a pod containing the container running bastionlab's server. The pod is in good health if its status is **running**."
   ]
  },
  {
   "cell_type": "code",
   "execution_count": 1,
   "id": "91fd33f5-5b0a-4366-93e9-1ecb1cbc7f56",
   "metadata": {},
   "outputs": [
    {
     "name": "stdout",
     "output_type": "stream",
     "text": [
      "NAME                                READY   STATUS        RESTARTS   AGE\n",
      "bastionlab-784546-d84ddb486-hjrd6   1/1     Running       0          36s\n",
      "jupyter-python-109736-0             1/1     Running       0          3m43s\n",
      "jupyter-python-559763-0             1/1     Running       0          6h49m\n",
      "mb-metabase-6c9d688dd9-f696f        2/2     Running       0          59m\n",
      "mb-metabase-758df74bc-rklgf         0/2     Terminating   0          5h3m\n",
      "metabase-db-0                       1/1     Running       0          59m\n",
      "te                                  1/1     Running       1          174m\n",
      "vscode-python-275527-0              1/1     Running       0          6h50m\n",
      "vscode-python-809564-0              1/1     Running       0          13m\n"
     ]
    }
   ],
   "source": [
    "!kubectl get pods"
   ]
  },
  {
   "cell_type": "markdown",
   "id": "34f8a0c4-8ee8-45f7-967c-42bbb448d452",
   "metadata": {},
   "source": [
    "## Retrieving the keys"
   ]
  },
  {
   "cell_type": "markdown",
   "id": "0f972118-0bfc-4aa4-9b38-a3e8a3248a73",
   "metadata": {},
   "source": [
    "The authentication keys are inside the container running the server:"
   ]
  },
  {
   "cell_type": "code",
   "execution_count": 9,
   "id": "553ad6b4-37a8-4243-aed7-c8b4360aca8c",
   "metadata": {},
   "outputs": [
    {
     "name": "stdout",
     "output_type": "stream",
     "text": [
      "Defaulted container \"bastionlab\" out of: bastionlab, generate-keys (init)\n",
      "keys:\n",
      "owners\n",
      "privkeys\n",
      "users\n",
      "\n",
      "keys/privkeys:\n",
      "data_owner.key.pem\n",
      "data_scientist1.key.pem\n"
     ]
    }
   ],
   "source": [
    "# !kubectl exec <pod-name> -- /bin/ls keys keys/privkeys\n",
    "!kubectl exec bastionlab-784546-d84ddb486-hjrd6 -- /bin/ls keys keys/privkeys"
   ]
  },
  {
   "cell_type": "markdown",
   "id": "9a80cd6f-d7d0-43e3-bddf-09718b3b8346",
   "metadata": {},
   "source": [
    " To retrieve them, we copy the files from the pod to our local files system."
   ]
  },
  {
   "cell_type": "code",
   "execution_count": 10,
   "id": "3482050b-db30-4cd8-919f-b38be78bf6e6",
   "metadata": {},
   "outputs": [
    {
     "name": "stdout",
     "output_type": "stream",
     "text": [
      "Defaulted container \"bastionlab\" out of: bastionlab, generate-keys (init)\n",
      "tar: Removing leading `/' from member names\n",
      "Defaulted container \"bastionlab\" out of: bastionlab, generate-keys (init)\n",
      "tar: Removing leading `/' from member names\n"
     ]
    }
   ],
   "source": [
    "#!kubectl cp <pod-name>:file_path_in_container local_file_path\n",
    "\n",
    "!kubectl cp bastionlab-784546-d84ddb486-hjrd6:/app/bin/keys/privkeys/data_owner.key.pem data_owner.key.pem\n",
    "!kubectl cp bastionlab-784546-d84ddb486-hjrd6:/app/bin/keys/privkeys/data_scientist1.key.pem data_scientist1.key.pem"
   ]
  },
  {
   "cell_type": "markdown",
   "id": "9e2f64fa-975e-4483-999e-155507e33c65",
   "metadata": {},
   "source": [
    "## Connecting to the server"
   ]
  },
  {
   "cell_type": "code",
   "execution_count": null,
   "id": "9093d0e9-5953-4c86-982c-56e9ade80d02",
   "metadata": {},
   "outputs": [],
   "source": [
    "!pip install bastionlab\n",
    "!wget 'https://raw.githubusercontent.com/datasciencedojo/datasets/master/titanic.csv'"
   ]
  },
  {
   "cell_type": "code",
   "execution_count": 8,
   "id": "2db5ce6e-556a-4d2a-b675-6f054f4668e7",
   "metadata": {},
   "outputs": [],
   "source": [
    "from bastionlab import SigningKey, Connection"
   ]
  },
  {
   "cell_type": "code",
   "execution_count": 11,
   "id": "010091e8-3ea7-464d-878a-a66ea0a857e2",
   "metadata": {},
   "outputs": [],
   "source": [
    "data_owner_key = SigningKey.from_pem(\"data_owner.key.pem\")"
   ]
  },
  {
   "cell_type": "code",
   "execution_count": null,
   "id": "3dbd66dc-05a8-40a8-a024-7d20d0e5afad",
   "metadata": {},
   "outputs": [],
   "source": [
    "The s"
   ]
  },
  {
   "cell_type": "code",
   "execution_count": 12,
   "id": "30e84f76-d10d-4d94-b332-1df738ddb1ef",
   "metadata": {},
   "outputs": [
    {
     "name": "stdout",
     "output_type": "stream",
     "text": [
      "NAME                    TYPE        CLUSTER-IP      EXTERNAL-IP   PORT(S)     AGE\n",
      "bastionlab-784546       ClusterIP   10.233.40.187   <none>        50056/TCP   12m\n",
      "jupyter-python-109736   ClusterIP   None            <none>        8888/TCP    15m\n",
      "jupyter-python-559763   ClusterIP   None            <none>        8888/TCP    7h1m\n",
      "mb-metabase             ClusterIP   10.233.33.232   <none>        80/TCP      71m\n",
      "metabase-db             ClusterIP   10.233.2.180    <none>        5432/TCP    71m\n",
      "metabase-db-hl          ClusterIP   None            <none>        5432/TCP    71m\n",
      "vscode-python-275527    ClusterIP   None            <none>        80/TCP      7h2m\n",
      "vscode-python-809564    ClusterIP   None            <none>        80/TCP      26m\n"
     ]
    }
   ],
   "source": [
    "!kubectl get services"
   ]
  },
  {
   "cell_type": "code",
   "execution_count": 13,
   "id": "1d31ed3d-1d89-47a3-a983-baad6f9905ad",
   "metadata": {},
   "outputs": [],
   "source": [
    "#connection = Connection(\"<bastionlab_server_name>\", 50056, identity=data_owner_key)\n",
    "connection = Connection(\"bastionlab-784546\", 50056, identity=data_owner_key)"
   ]
  },
  {
   "cell_type": "code",
   "execution_count": 18,
   "id": "ef03143e-6337-4ade-882b-2ad2b8317b96",
   "metadata": {
    "tags": []
   },
   "outputs": [
    {
     "data": {
      "text/plain": [
       "FetchableLazyFrame(identifier=3c164bd1-99d5-4a64-8b31-cc959b4b6172)"
      ]
     },
     "execution_count": 18,
     "metadata": {},
     "output_type": "execute_result"
    }
   ],
   "source": [
    "import polars as pl\n",
    "df = pl.read_csv(\"titanic.csv\")\n",
    "connection.client.polars.send_df(df)"
   ]
  },
  {
   "cell_type": "code",
   "execution_count": 19,
   "id": "13eb2604-44f6-46e0-8ccc-74fa2e76be7b",
   "metadata": {},
   "outputs": [
    {
     "data": {
      "text/plain": [
       "[FetchableLazyFrame(identifier=3c164bd1-99d5-4a64-8b31-cc959b4b6172)]"
      ]
     },
     "execution_count": 19,
     "metadata": {},
     "output_type": "execute_result"
    }
   ],
   "source": [
    "connection.client.polars.list_dfs()"
   ]
  }
 ],
 "metadata": {
  "kernelspec": {
   "display_name": "Python 3 (ipykernel)",
   "language": "python",
   "name": "python3"
  },
  "language_info": {
   "codemirror_mode": {
    "name": "ipython",
    "version": 3
   },
   "file_extension": ".py",
   "mimetype": "text/x-python",
   "name": "python",
   "nbconvert_exporter": "python",
   "pygments_lexer": "ipython3",
   "version": "3.10.4"
  }
 },
 "nbformat": 4,
 "nbformat_minor": 5
}
